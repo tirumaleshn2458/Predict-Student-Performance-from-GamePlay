{
 "cells": [
  {
   "cell_type": "code",
   "execution_count": 2,
   "id": "7fb23e55",
   "metadata": {},
   "outputs": [],
   "source": [
    "import pandas as pd\n",
    "from sklearn.linear_model import LogisticRegression\n",
    "from sklearn.model_selection import train_test_split\n",
    "from sklearn.ensemble import RandomForestClassifier"
   ]
  },
  {
   "cell_type": "code",
   "execution_count": 3,
   "id": "68e89cf3",
   "metadata": {},
   "outputs": [],
   "source": [
    "#reading the dataset\n",
    "data_frame=pd.read_csv('data/clean_train_data.csv')"
   ]
  },
  {
   "cell_type": "code",
   "execution_count": 4,
   "id": "88a079c5",
   "metadata": {},
   "outputs": [
    {
     "data": {
      "text/html": [
       "<div>\n",
       "<style scoped>\n",
       "    .dataframe tbody tr th:only-of-type {\n",
       "        vertical-align: middle;\n",
       "    }\n",
       "\n",
       "    .dataframe tbody tr th {\n",
       "        vertical-align: top;\n",
       "    }\n",
       "\n",
       "    .dataframe thead th {\n",
       "        text-align: right;\n",
       "    }\n",
       "</style>\n",
       "<table border=\"1\" class=\"dataframe\">\n",
       "  <thead>\n",
       "    <tr style=\"text-align: right;\">\n",
       "      <th></th>\n",
       "      <th>event_name</th>\n",
       "      <th>name</th>\n",
       "      <th>fqid</th>\n",
       "      <th>room_fqid</th>\n",
       "      <th>text_fqid</th>\n",
       "      <th>level_group</th>\n",
       "      <th>index</th>\n",
       "      <th>elapsed_time</th>\n",
       "      <th>level</th>\n",
       "      <th>page</th>\n",
       "      <th>room_coor_x</th>\n",
       "      <th>room_coor_y</th>\n",
       "      <th>screen_coor_x</th>\n",
       "      <th>screen_coor_y</th>\n",
       "      <th>hover_duration</th>\n",
       "      <th>fullscreen</th>\n",
       "      <th>hq</th>\n",
       "      <th>music</th>\n",
       "      <th>correct</th>\n",
       "    </tr>\n",
       "  </thead>\n",
       "  <tbody>\n",
       "    <tr>\n",
       "      <th>0</th>\n",
       "      <td>-0.735011</td>\n",
       "      <td>0.744032</td>\n",
       "      <td>3.986301</td>\n",
       "      <td>2.447025</td>\n",
       "      <td>3.260113</td>\n",
       "      <td>1.768954</td>\n",
       "      <td>-1.043033</td>\n",
       "      <td>-0.114158</td>\n",
       "      <td>-1.754072</td>\n",
       "      <td>-0.129138</td>\n",
       "      <td>-1.009845</td>\n",
       "      <td>0.397245</td>\n",
       "      <td>0.058567</td>\n",
       "      <td>-0.384797</td>\n",
       "      <td>-0.001946</td>\n",
       "      <td>-0.397943</td>\n",
       "      <td>-0.369074</td>\n",
       "      <td>0.276066</td>\n",
       "      <td>1</td>\n",
       "    </tr>\n",
       "    <tr>\n",
       "      <th>1</th>\n",
       "      <td>2.652503</td>\n",
       "      <td>-0.919868</td>\n",
       "      <td>-0.756275</td>\n",
       "      <td>2.447025</td>\n",
       "      <td>1.241136</td>\n",
       "      <td>1.768954</td>\n",
       "      <td>-1.041014</td>\n",
       "      <td>-0.114016</td>\n",
       "      <td>-1.754072</td>\n",
       "      <td>-0.129138</td>\n",
       "      <td>-0.231303</td>\n",
       "      <td>0.523545</td>\n",
       "      <td>1.291838</td>\n",
       "      <td>-0.371888</td>\n",
       "      <td>-0.001946</td>\n",
       "      <td>-0.397943</td>\n",
       "      <td>-0.369074</td>\n",
       "      <td>0.276066</td>\n",
       "      <td>1</td>\n",
       "    </tr>\n",
       "    <tr>\n",
       "      <th>2</th>\n",
       "      <td>2.652503</td>\n",
       "      <td>-0.919868</td>\n",
       "      <td>-0.756275</td>\n",
       "      <td>2.447025</td>\n",
       "      <td>1.241136</td>\n",
       "      <td>1.768954</td>\n",
       "      <td>-1.038994</td>\n",
       "      <td>-0.113987</td>\n",
       "      <td>-1.754072</td>\n",
       "      <td>-0.129138</td>\n",
       "      <td>-0.231193</td>\n",
       "      <td>0.261424</td>\n",
       "      <td>1.291838</td>\n",
       "      <td>-0.023350</td>\n",
       "      <td>-0.001946</td>\n",
       "      <td>-0.397943</td>\n",
       "      <td>-0.369074</td>\n",
       "      <td>0.276066</td>\n",
       "      <td>1</td>\n",
       "    </tr>\n",
       "    <tr>\n",
       "      <th>3</th>\n",
       "      <td>2.652503</td>\n",
       "      <td>-0.919868</td>\n",
       "      <td>-0.756275</td>\n",
       "      <td>2.447025</td>\n",
       "      <td>1.241136</td>\n",
       "      <td>1.768954</td>\n",
       "      <td>-1.036975</td>\n",
       "      <td>-0.113946</td>\n",
       "      <td>-1.754072</td>\n",
       "      <td>-0.129138</td>\n",
       "      <td>-0.231165</td>\n",
       "      <td>0.261446</td>\n",
       "      <td>1.291838</td>\n",
       "      <td>-0.023350</td>\n",
       "      <td>-0.001946</td>\n",
       "      <td>-0.397943</td>\n",
       "      <td>-0.369074</td>\n",
       "      <td>0.276066</td>\n",
       "      <td>1</td>\n",
       "    </tr>\n",
       "    <tr>\n",
       "      <th>4</th>\n",
       "      <td>0.716781</td>\n",
       "      <td>2.407932</td>\n",
       "      <td>3.986301</td>\n",
       "      <td>2.447025</td>\n",
       "      <td>3.260113</td>\n",
       "      <td>1.768954</td>\n",
       "      <td>-1.034956</td>\n",
       "      <td>-0.113870</td>\n",
       "      <td>-1.754072</td>\n",
       "      <td>-0.129138</td>\n",
       "      <td>-0.098554</td>\n",
       "      <td>1.703603</td>\n",
       "      <td>1.552867</td>\n",
       "      <td>-1.940308</td>\n",
       "      <td>-0.001946</td>\n",
       "      <td>-0.397943</td>\n",
       "      <td>-0.369074</td>\n",
       "      <td>0.276066</td>\n",
       "      <td>1</td>\n",
       "    </tr>\n",
       "  </tbody>\n",
       "</table>\n",
       "</div>"
      ],
      "text/plain": [
       "   event_name      name      fqid  room_fqid  text_fqid  level_group  \\\n",
       "0   -0.735011  0.744032  3.986301   2.447025   3.260113     1.768954   \n",
       "1    2.652503 -0.919868 -0.756275   2.447025   1.241136     1.768954   \n",
       "2    2.652503 -0.919868 -0.756275   2.447025   1.241136     1.768954   \n",
       "3    2.652503 -0.919868 -0.756275   2.447025   1.241136     1.768954   \n",
       "4    0.716781  2.407932  3.986301   2.447025   3.260113     1.768954   \n",
       "\n",
       "      index  elapsed_time     level      page  room_coor_x  room_coor_y  \\\n",
       "0 -1.043033     -0.114158 -1.754072 -0.129138    -1.009845     0.397245   \n",
       "1 -1.041014     -0.114016 -1.754072 -0.129138    -0.231303     0.523545   \n",
       "2 -1.038994     -0.113987 -1.754072 -0.129138    -0.231193     0.261424   \n",
       "3 -1.036975     -0.113946 -1.754072 -0.129138    -0.231165     0.261446   \n",
       "4 -1.034956     -0.113870 -1.754072 -0.129138    -0.098554     1.703603   \n",
       "\n",
       "   screen_coor_x  screen_coor_y  hover_duration  fullscreen        hq  \\\n",
       "0       0.058567      -0.384797       -0.001946   -0.397943 -0.369074   \n",
       "1       1.291838      -0.371888       -0.001946   -0.397943 -0.369074   \n",
       "2       1.291838      -0.023350       -0.001946   -0.397943 -0.369074   \n",
       "3       1.291838      -0.023350       -0.001946   -0.397943 -0.369074   \n",
       "4       1.552867      -1.940308       -0.001946   -0.397943 -0.369074   \n",
       "\n",
       "      music  correct  \n",
       "0  0.276066        1  \n",
       "1  0.276066        1  \n",
       "2  0.276066        1  \n",
       "3  0.276066        1  \n",
       "4  0.276066        1  "
      ]
     },
     "execution_count": 4,
     "metadata": {},
     "output_type": "execute_result"
    }
   ],
   "source": [
    "data_frame.head()"
   ]
  },
  {
   "cell_type": "code",
   "execution_count": 5,
   "id": "a0228eae",
   "metadata": {},
   "outputs": [
    {
     "data": {
      "text/plain": [
       "(20732578, 19)"
      ]
     },
     "execution_count": 5,
     "metadata": {},
     "output_type": "execute_result"
    }
   ],
   "source": [
    "data_frame.shape"
   ]
  },
  {
   "cell_type": "code",
   "execution_count": 6,
   "id": "8160b4d4",
   "metadata": {},
   "outputs": [
    {
     "data": {
      "text/plain": [
       "(20732574, 19)"
      ]
     },
     "execution_count": 6,
     "metadata": {},
     "output_type": "execute_result"
    }
   ],
   "source": [
    "data_frame.drop_duplicates().shape"
   ]
  },
  {
   "cell_type": "code",
   "execution_count": 7,
   "id": "1d803ef3",
   "metadata": {},
   "outputs": [],
   "source": [
    "data_frame=data_frame.drop_duplicates()"
   ]
  },
  {
   "cell_type": "code",
   "execution_count": 8,
   "id": "80fa4004",
   "metadata": {},
   "outputs": [],
   "source": [
    "#spliting the data into input and output data"
   ]
  },
  {
   "cell_type": "code",
   "execution_count": 9,
   "id": "9ee23dba",
   "metadata": {},
   "outputs": [],
   "source": [
    "inp_data=data_frame.drop(['correct'],axis=1)"
   ]
  },
  {
   "cell_type": "code",
   "execution_count": 10,
   "id": "715857c2",
   "metadata": {},
   "outputs": [],
   "source": [
    "out_data=data_frame[['correct']]"
   ]
  },
  {
   "cell_type": "code",
   "execution_count": 11,
   "id": "bdbdc741",
   "metadata": {},
   "outputs": [],
   "source": [
    "#spliting the train and test data\n",
    "x_train,x_test,y_train,y_test=train_test_split(inp_data,out_data,random_state=None)"
   ]
  },
  {
   "cell_type": "code",
   "execution_count": 12,
   "id": "0ce74c60",
   "metadata": {},
   "outputs": [],
   "source": [
    "#logistic regression"
   ]
  },
  {
   "cell_type": "code",
   "execution_count": 13,
   "id": "5c156ae0",
   "metadata": {},
   "outputs": [],
   "source": [
    "log_model=LogisticRegression()"
   ]
  },
  {
   "cell_type": "code",
   "execution_count": 14,
   "id": "1bb6c339",
   "metadata": {},
   "outputs": [
    {
     "name": "stderr",
     "output_type": "stream",
     "text": [
      "/Library/Frameworks/Python.framework/Versions/3.9/lib/python3.9/site-packages/sklearn/utils/validation.py:993: DataConversionWarning: A column-vector y was passed when a 1d array was expected. Please change the shape of y to (n_samples, ), for example using ravel().\n",
      "  y = column_or_1d(y, warn=True)\n"
     ]
    },
    {
     "data": {
      "text/plain": [
       "LogisticRegression()"
      ]
     },
     "execution_count": 14,
     "metadata": {},
     "output_type": "execute_result"
    }
   ],
   "source": [
    "log_model.fit(x_train,y_train)"
   ]
  },
  {
   "cell_type": "code",
   "execution_count": 15,
   "id": "f924c6d3",
   "metadata": {},
   "outputs": [
    {
     "data": {
      "text/plain": [
       "0.7166088767744057"
      ]
     },
     "execution_count": 15,
     "metadata": {},
     "output_type": "execute_result"
    }
   ],
   "source": [
    "log_model.score(x_test,y_test)"
   ]
  },
  {
   "cell_type": "code",
   "execution_count": 16,
   "id": "587e774d",
   "metadata": {},
   "outputs": [],
   "source": [
    "#random forest"
   ]
  },
  {
   "cell_type": "code",
   "execution_count": 17,
   "id": "1203d79d",
   "metadata": {},
   "outputs": [],
   "source": [
    "rf_model=RandomForestClassifier(verbose=1)"
   ]
  },
  {
   "cell_type": "code",
   "execution_count": 18,
   "id": "ca29507c",
   "metadata": {},
   "outputs": [
    {
     "name": "stderr",
     "output_type": "stream",
     "text": [
      "/var/folders/4b/082wp8yj1vdb15yd5756bphm0000gn/T/ipykernel_10330/3924317179.py:1: DataConversionWarning: A column-vector y was passed when a 1d array was expected. Please change the shape of y to (n_samples,), for example using ravel().\n",
      "  rf_model.fit(x_train,y_train)\n",
      "[Parallel(n_jobs=1)]: Using backend SequentialBackend with 1 concurrent workers.\n",
      "[Parallel(n_jobs=1)]: Done 100 out of 100 | elapsed: 1114.0min finished\n"
     ]
    },
    {
     "data": {
      "text/plain": [
       "RandomForestClassifier(verbose=1)"
      ]
     },
     "execution_count": 18,
     "metadata": {},
     "output_type": "execute_result"
    }
   ],
   "source": [
    "rf_model.fit(x_train,y_train)"
   ]
  },
  {
   "cell_type": "code",
   "execution_count": 19,
   "id": "37e4a0de",
   "metadata": {},
   "outputs": [
    {
     "name": "stderr",
     "output_type": "stream",
     "text": [
      "[Parallel(n_jobs=1)]: Using backend SequentialBackend with 1 concurrent workers.\n",
      "[Parallel(n_jobs=1)]: Done 100 out of 100 | elapsed:  8.9min finished\n"
     ]
    },
    {
     "data": {
      "text/plain": [
       "0.8597453591873967"
      ]
     },
     "execution_count": 19,
     "metadata": {},
     "output_type": "execute_result"
    }
   ],
   "source": [
    "rf_model.score(x_test,y_test)"
   ]
  },
  {
   "cell_type": "code",
   "execution_count": 20,
   "id": "6f847c31",
   "metadata": {},
   "outputs": [],
   "source": [
    "import pickle"
   ]
  },
  {
   "cell_type": "code",
   "execution_count": 21,
   "id": "29aec477",
   "metadata": {},
   "outputs": [],
   "source": [
    "pickle.dump(rf_model,open('data/rf_model_for_student_performance.pkl','wb'))"
   ]
  },
  {
   "cell_type": "code",
   "execution_count": 22,
   "id": "cff548d3",
   "metadata": {},
   "outputs": [
    {
     "name": "stderr",
     "output_type": "stream",
     "text": [
      "[Parallel(n_jobs=1)]: Using backend SequentialBackend with 1 concurrent workers.\n",
      "[Parallel(n_jobs=1)]: Done 100 out of 100 | elapsed:  9.0min finished\n"
     ]
    }
   ],
   "source": [
    "predicted_values=rf_model.predict(x_test)"
   ]
  },
  {
   "cell_type": "code",
   "execution_count": null,
   "id": "d9e4d50a",
   "metadata": {},
   "outputs": [],
   "source": []
  }
 ],
 "metadata": {
  "kernelspec": {
   "display_name": "Python 3 (ipykernel)",
   "language": "python",
   "name": "python3"
  },
  "language_info": {
   "codemirror_mode": {
    "name": "ipython",
    "version": 3
   },
   "file_extension": ".py",
   "mimetype": "text/x-python",
   "name": "python",
   "nbconvert_exporter": "python",
   "pygments_lexer": "ipython3",
   "version": "3.9.6"
  }
 },
 "nbformat": 4,
 "nbformat_minor": 5
}
